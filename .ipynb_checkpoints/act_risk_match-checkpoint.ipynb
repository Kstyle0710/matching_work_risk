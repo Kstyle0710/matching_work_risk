{
 "cells": [
  {
   "cell_type": "code",
   "execution_count": 1,
   "metadata": {},
   "outputs": [],
   "source": [
    "import pandas as pd\n",
    "import numpy as np\n",
    "import copy"
   ]
  },
  {
   "cell_type": "code",
   "execution_count": 2,
   "metadata": {},
   "outputs": [],
   "source": [
    "works = pd.read_excel(\"./source/작업행동.xlsx\")\n",
    "risks = pd.read_excel(\"./source/표준 위험요인.xlsx\")\n",
    "vectors = pd.read_excel(\"./source/위험벡터.xlsx\")"
   ]
  },
  {
   "cell_type": "code",
   "execution_count": 3,
   "metadata": {},
   "outputs": [],
   "source": [
    "risk1 = copy.deepcopy(risks)"
   ]
  },
  {
   "cell_type": "code",
   "execution_count": 4,
   "metadata": {},
   "outputs": [],
   "source": [
    "# works['형태소'][0]"
   ]
  },
  {
   "cell_type": "markdown",
   "metadata": {},
   "source": [
    "### 작업행동에 표준 위험요인(id) 맵핑"
   ]
  },
  {
   "cell_type": "code",
   "execution_count": 5,
   "metadata": {},
   "outputs": [],
   "source": [
    "for t, work in enumerate(works[\"형태소\"]):\n",
    "    work = str(work).split(\",\") # 형태소를 하나씩 불러서 리스트로 변환\n",
    "    target = []     # 전처리된 형태소를 담을 리스트\n",
    "    \n",
    "    for i in work:   # 리스트로 변환된 형태소 그룹에서 형태소 하나씩 빼오기\n",
    "        i = i.strip(\" \")  # 혹시 있을 공란 제거\n",
    "        target.append(i)\n",
    "    \n",
    "    basket = []    \n",
    "\n",
    "    for k in target:  \n",
    "\n",
    "        for p, risk in enumerate(risks[\"키워드\"]):\n",
    "            risk = str(risk).split(\",\")   # 키워드 그룹도 하나씩 불러서 리스트로 변환\n",
    "            \n",
    "            compare = []     # 전처리된 키워드를 담을 리스트\n",
    "\n",
    "            for a in risk:\n",
    "                a = a.strip(\" \")   # 혹시 있을 공란 제거후\n",
    "                compare.append(a)  \n",
    "\n",
    "            if k in compare:     # 키워드 개수만큼 반복 \n",
    "                if risks[\"id\"][p] not in basket:\n",
    "                    ## 각각의 키워드들이 전처리된 형태소 리스트 안에 있는지 확인\n",
    "                    basket.append(risks[\"id\"][p])\n",
    "                    ## 있으면 바구니에 담기\n",
    "                else:\n",
    "                    pass\n",
    "\n",
    "    if basket != []:\n",
    "        works[\"위험_id\"] = works[\"위험_id\"].astype('object')\n",
    "        works.at[t, \"위험_id\"] = basket    # t번째 행 \"위험id 열에 바스켓 값을 넣는다.\"\n"
   ]
  },
  {
   "cell_type": "markdown",
   "metadata": {},
   "source": [
    "### 작업행동에 위험벡터 맵핑"
   ]
  },
  {
   "cell_type": "code",
   "execution_count": 6,
   "metadata": {
    "scrolled": true
   },
   "outputs": [
    {
     "data": {
      "text/plain": [
       "0                 슬링벨트, 운반, 크레인, 상태, 슬래그\n",
       "1    차, 용접, 수정, 작업, 아이템, 체크, 수정, 분필, 용접기\n",
       "2                   지게차, 운전수, 작업, 내용, 협의\n",
       "3                               공기구, 용접기\n",
       "4                         오프, 세트, 체크, 실시\n",
       "Name: 형태소, dtype: object"
      ]
     },
     "execution_count": 6,
     "metadata": {},
     "output_type": "execute_result"
    }
   ],
   "source": [
    "works2 = copy.deepcopy(works)\n",
    "works2['형태소'].head()"
   ]
  },
  {
   "cell_type": "code",
   "execution_count": 28,
   "metadata": {
    "scrolled": false
   },
   "outputs": [
    {
     "data": {
      "text/html": [
       "<div>\n",
       "<style scoped>\n",
       "    .dataframe tbody tr th:only-of-type {\n",
       "        vertical-align: middle;\n",
       "    }\n",
       "\n",
       "    .dataframe tbody tr th {\n",
       "        vertical-align: top;\n",
       "    }\n",
       "\n",
       "    .dataframe thead th {\n",
       "        text-align: right;\n",
       "    }\n",
       "</style>\n",
       "<table border=\"1\" class=\"dataframe\">\n",
       "  <thead>\n",
       "    <tr style=\"text-align: right;\">\n",
       "      <th></th>\n",
       "      <th>0</th>\n",
       "      <th>1</th>\n",
       "      <th>2</th>\n",
       "      <th>3</th>\n",
       "      <th>4</th>\n",
       "      <th>5</th>\n",
       "      <th>6</th>\n",
       "      <th>7</th>\n",
       "      <th>8</th>\n",
       "      <th>9</th>\n",
       "      <th>10</th>\n",
       "      <th>11</th>\n",
       "      <th>12</th>\n",
       "      <th>13</th>\n",
       "    </tr>\n",
       "  </thead>\n",
       "  <tbody>\n",
       "    <tr>\n",
       "      <th>키워드</th>\n",
       "      <td>크레인</td>\n",
       "      <td>슬링벨트</td>\n",
       "      <td>용접</td>\n",
       "      <td>슬래그</td>\n",
       "      <td>지게차</td>\n",
       "      <td>사다리</td>\n",
       "      <td>그라인더</td>\n",
       "      <td>캐리지</td>\n",
       "      <td>취부</td>\n",
       "      <td>피스</td>\n",
       "      <td>작업대</td>\n",
       "      <td>용접기</td>\n",
       "      <td>절단</td>\n",
       "      <td>도장</td>\n",
       "    </tr>\n",
       "    <tr>\n",
       "      <th>위험지수</th>\n",
       "      <td>5</td>\n",
       "      <td>5</td>\n",
       "      <td>4</td>\n",
       "      <td>2</td>\n",
       "      <td>3</td>\n",
       "      <td>1</td>\n",
       "      <td>4</td>\n",
       "      <td>2</td>\n",
       "      <td>4</td>\n",
       "      <td>2</td>\n",
       "      <td>2</td>\n",
       "      <td>3.5</td>\n",
       "      <td>3</td>\n",
       "      <td>3</td>\n",
       "    </tr>\n",
       "  </tbody>\n",
       "</table>\n",
       "</div>"
      ],
      "text/plain": [
       "       0     1   2    3    4    5     6    7   8   9    10   11  12  13\n",
       "키워드   크레인  슬링벨트  용접  슬래그  지게차  사다리  그라인더  캐리지  취부  피스  작업대  용접기  절단  도장\n",
       "위험지수    5     5   4    2    3    1     4    2   4   2    2  3.5   3   3"
      ]
     },
     "execution_count": 28,
     "metadata": {},
     "output_type": "execute_result"
    }
   ],
   "source": [
    "vectors.T"
   ]
  },
  {
   "cell_type": "code",
   "execution_count": 8,
   "metadata": {},
   "outputs": [],
   "source": [
    "for n1 in range(len(works2[\"형태소\"])):\n",
    "    k = works2['형태소'].iloc[n1]\n",
    "    k = k.split(\",\")\n",
    "#     print(k)\n",
    "#     print(type(k))\n",
    "    point = 0\n",
    "    for i in k:\n",
    "        i = i.strip()\n",
    "#         print(i)\n",
    "        if i in list(vectors['키워드']):\n",
    "            point += float(vectors.loc[vectors['키워드'] == i, '위험지수'])\n",
    "        else:\n",
    "            point += 0\n",
    "    works2.at[n1, \"위험vector\"] = point "
   ]
  },
  {
   "cell_type": "code",
   "execution_count": 9,
   "metadata": {
    "scrolled": false
   },
   "outputs": [
    {
     "data": {
      "text/html": [
       "<div>\n",
       "<style scoped>\n",
       "    .dataframe tbody tr th:only-of-type {\n",
       "        vertical-align: middle;\n",
       "    }\n",
       "\n",
       "    .dataframe tbody tr th {\n",
       "        vertical-align: top;\n",
       "    }\n",
       "\n",
       "    .dataframe thead th {\n",
       "        text-align: right;\n",
       "    }\n",
       "</style>\n",
       "<table border=\"1\" class=\"dataframe\">\n",
       "  <thead>\n",
       "    <tr style=\"text-align: right;\">\n",
       "      <th></th>\n",
       "      <th>id</th>\n",
       "      <th>작업행동</th>\n",
       "      <th>형태소</th>\n",
       "      <th>위험_id</th>\n",
       "      <th>위험vector</th>\n",
       "    </tr>\n",
       "  </thead>\n",
       "  <tbody>\n",
       "    <tr>\n",
       "      <th>0</th>\n",
       "      <td>행_1</td>\n",
       "      <td>작업행동1</td>\n",
       "      <td>슬링벨트, 운반, 크레인, 상태, 슬래그</td>\n",
       "      <td>[위_1, 위_2]</td>\n",
       "      <td>12.0</td>\n",
       "    </tr>\n",
       "    <tr>\n",
       "      <th>1</th>\n",
       "      <td>행_2</td>\n",
       "      <td>작업행동2</td>\n",
       "      <td>차, 용접, 수정, 작업, 아이템, 체크, 수정, 분필, 용접기</td>\n",
       "      <td>[위_2]</td>\n",
       "      <td>7.5</td>\n",
       "    </tr>\n",
       "    <tr>\n",
       "      <th>2</th>\n",
       "      <td>행_3</td>\n",
       "      <td>작업행동3</td>\n",
       "      <td>지게차, 운전수, 작업, 내용, 협의</td>\n",
       "      <td>[위_3]</td>\n",
       "      <td>3.0</td>\n",
       "    </tr>\n",
       "    <tr>\n",
       "      <th>3</th>\n",
       "      <td>행_4</td>\n",
       "      <td>작업행동5</td>\n",
       "      <td>공기구, 용접기</td>\n",
       "      <td>[위_2]</td>\n",
       "      <td>3.5</td>\n",
       "    </tr>\n",
       "    <tr>\n",
       "      <th>4</th>\n",
       "      <td>행_5</td>\n",
       "      <td>오프 세트 체크 실시</td>\n",
       "      <td>오프, 세트, 체크, 실시</td>\n",
       "      <td>NaN</td>\n",
       "      <td>0.0</td>\n",
       "    </tr>\n",
       "    <tr>\n",
       "      <th>5</th>\n",
       "      <td>행_6</td>\n",
       "      <td>Start 버튼 누르기</td>\n",
       "      <td>버튼, 누르기</td>\n",
       "      <td>NaN</td>\n",
       "      <td>0.0</td>\n",
       "    </tr>\n",
       "    <tr>\n",
       "      <th>6</th>\n",
       "      <td>행_7</td>\n",
       "      <td>부재명 기명 및 자재종류 도장 마킹</td>\n",
       "      <td>재명, 기명, 자재, 종류, 도장, 마킹</td>\n",
       "      <td>NaN</td>\n",
       "      <td>3.0</td>\n",
       "    </tr>\n",
       "    <tr>\n",
       "      <th>7</th>\n",
       "      <td>행_8</td>\n",
       "      <td>절단 진행중 이상 여부 체크</td>\n",
       "      <td>절단, 진행, 이상, 여부, 체크</td>\n",
       "      <td>NaN</td>\n",
       "      <td>3.0</td>\n",
       "    </tr>\n",
       "    <tr>\n",
       "      <th>8</th>\n",
       "      <td>행_9</td>\n",
       "      <td>절단중 스크랩 처리</td>\n",
       "      <td>절단, 스크랩, 처리</td>\n",
       "      <td>NaN</td>\n",
       "      <td>3.0</td>\n",
       "    </tr>\n",
       "    <tr>\n",
       "      <th>9</th>\n",
       "      <td>행_10</td>\n",
       "      <td>A/T 준비 (Air Test)</td>\n",
       "      <td>준비</td>\n",
       "      <td>NaN</td>\n",
       "      <td>0.0</td>\n",
       "    </tr>\n",
       "    <tr>\n",
       "      <th>10</th>\n",
       "      <td>행_11</td>\n",
       "      <td>선주선급 입회 검사</td>\n",
       "      <td>선주, 선급, 입회, 검사</td>\n",
       "      <td>NaN</td>\n",
       "      <td>0.0</td>\n",
       "    </tr>\n",
       "    <tr>\n",
       "      <th>11</th>\n",
       "      <td>행_12</td>\n",
       "      <td>선주선급 지적 POINT 수정 (용접기 및 에어그라인더 사용)</td>\n",
       "      <td>선주, 선급, 지적, 수정, 용접기, 에어, 그라인더, 사용</td>\n",
       "      <td>[위_2, 위_5]</td>\n",
       "      <td>7.5</td>\n",
       "    </tr>\n",
       "    <tr>\n",
       "      <th>12</th>\n",
       "      <td>행_13</td>\n",
       "      <td>수정 용접 및 백 가우징 작업</td>\n",
       "      <td>수정, 용접, 백, 우징, 작업</td>\n",
       "      <td>[위_2]</td>\n",
       "      <td>4.0</td>\n",
       "    </tr>\n",
       "    <tr>\n",
       "      <th>13</th>\n",
       "      <td>행_14</td>\n",
       "      <td>외판 조인트 U.T 검사 수행 (에어 그라인더, 베이비 그라인더)</td>\n",
       "      <td>외판, 조인트, 검사, 수행, 에어, 그라인더, 베이비, 그라인더</td>\n",
       "      <td>[위_5]</td>\n",
       "      <td>8.0</td>\n",
       "    </tr>\n",
       "    <tr>\n",
       "      <th>14</th>\n",
       "      <td>행_15</td>\n",
       "      <td>1차 사상 작업 (에어 그라인더, 베이비 그라인더)</td>\n",
       "      <td>차, 사상, 작업, 에어, 그라인더, 베이비, 그라인더</td>\n",
       "      <td>[위_5]</td>\n",
       "      <td>8.0</td>\n",
       "    </tr>\n",
       "    <tr>\n",
       "      <th>15</th>\n",
       "      <td>행_16</td>\n",
       "      <td>2차 사상 작업 , RC 작업 페퍼 그라인딩 (에어 그라인더, 베이비 그라인더)</td>\n",
       "      <td>차, 사상, 작업, 작업, 페퍼, 그라인딩, 에어, 그라인더, 베이비, 그라인더</td>\n",
       "      <td>[위_5]</td>\n",
       "      <td>8.0</td>\n",
       "    </tr>\n",
       "    <tr>\n",
       "      <th>16</th>\n",
       "      <td>행_17</td>\n",
       "      <td>MINI 캐리지 반자동 용접</td>\n",
       "      <td>캐리지, 반자동, 용접</td>\n",
       "      <td>[위_6, 위_2]</td>\n",
       "      <td>6.0</td>\n",
       "    </tr>\n",
       "    <tr>\n",
       "      <th>17</th>\n",
       "      <td>행_18</td>\n",
       "      <td>수동 용접 및 라운드 용접(FCAW)</td>\n",
       "      <td>수동, 용접, 라운드, 용접</td>\n",
       "      <td>[위_2]</td>\n",
       "      <td>8.0</td>\n",
       "    </tr>\n",
       "    <tr>\n",
       "      <th>18</th>\n",
       "      <td>행_19</td>\n",
       "      <td>수동 용접(FCAW)</td>\n",
       "      <td>수동, 용접</td>\n",
       "      <td>[위_2]</td>\n",
       "      <td>4.0</td>\n",
       "    </tr>\n",
       "    <tr>\n",
       "      <th>19</th>\n",
       "      <td>행_20</td>\n",
       "      <td>수정 용접 및 백 가우징 작업</td>\n",
       "      <td>수정, 용접, 백, 우징, 작업</td>\n",
       "      <td>[위_2]</td>\n",
       "      <td>4.0</td>\n",
       "    </tr>\n",
       "    <tr>\n",
       "      <th>20</th>\n",
       "      <td>행_21</td>\n",
       "      <td>외판 조인트 용접 작업</td>\n",
       "      <td>외판, 조인트, 용접, 작업</td>\n",
       "      <td>[위_2]</td>\n",
       "      <td>4.0</td>\n",
       "    </tr>\n",
       "    <tr>\n",
       "      <th>21</th>\n",
       "      <td>행_22</td>\n",
       "      <td>PIPE 조인트 볼팅 작업</td>\n",
       "      <td>조인트, 볼팅, 작업</td>\n",
       "      <td>NaN</td>\n",
       "      <td>0.0</td>\n",
       "    </tr>\n",
       "    <tr>\n",
       "      <th>22</th>\n",
       "      <td>행_23</td>\n",
       "      <td>작업대 및 사다리 철거</td>\n",
       "      <td>작업대, 사다리, 철거</td>\n",
       "      <td>[위_7, 위_4, 위_6]</td>\n",
       "      <td>3.0</td>\n",
       "    </tr>\n",
       "    <tr>\n",
       "      <th>23</th>\n",
       "      <td>행_24</td>\n",
       "      <td>사전 도면 확인</td>\n",
       "      <td>사전, 도면, 확인</td>\n",
       "      <td>NaN</td>\n",
       "      <td>0.0</td>\n",
       "    </tr>\n",
       "    <tr>\n",
       "      <th>24</th>\n",
       "      <td>행_25</td>\n",
       "      <td>외판 조인트 재개선 시공</td>\n",
       "      <td>외판, 조인트, 개선, 시공</td>\n",
       "      <td>NaN</td>\n",
       "      <td>0.0</td>\n",
       "    </tr>\n",
       "    <tr>\n",
       "      <th>25</th>\n",
       "      <td>행_26</td>\n",
       "      <td>조인트 취부 작업</td>\n",
       "      <td>조인트, 취부, 작업</td>\n",
       "      <td>[위_5, 위_6, 위_7]</td>\n",
       "      <td>4.0</td>\n",
       "    </tr>\n",
       "    <tr>\n",
       "      <th>26</th>\n",
       "      <td>행_27</td>\n",
       "      <td>치공구, 3M 피스 및 야피스 준비</td>\n",
       "      <td>공구, 피스, 피스, 준비</td>\n",
       "      <td>[위_7]</td>\n",
       "      <td>4.0</td>\n",
       "    </tr>\n",
       "    <tr>\n",
       "      <th>27</th>\n",
       "      <td>행_28</td>\n",
       "      <td>Hopper 블록 탑재 셋팅 취부</td>\n",
       "      <td>블록, 탑재, 셋팅, 취부</td>\n",
       "      <td>[위_5, 위_6, 위_7]</td>\n",
       "      <td>4.0</td>\n",
       "    </tr>\n",
       "    <tr>\n",
       "      <th>28</th>\n",
       "      <td>행_29</td>\n",
       "      <td>PE 조인트 마킹</td>\n",
       "      <td>조인트, 마킹</td>\n",
       "      <td>NaN</td>\n",
       "      <td>0.0</td>\n",
       "    </tr>\n",
       "    <tr>\n",
       "      <th>29</th>\n",
       "      <td>행_30</td>\n",
       "      <td>보강 용접</td>\n",
       "      <td>보강, 용접</td>\n",
       "      <td>[위_2]</td>\n",
       "      <td>4.0</td>\n",
       "    </tr>\n",
       "  </tbody>\n",
       "</table>\n",
       "</div>"
      ],
      "text/plain": [
       "      id                                          작업행동  \\\n",
       "0    행_1                                         작업행동1   \n",
       "1    행_2                                         작업행동2   \n",
       "2    행_3                                         작업행동3   \n",
       "3    행_4                                         작업행동5   \n",
       "4    행_5                                   오프 세트 체크 실시   \n",
       "5    행_6                                  Start 버튼 누르기   \n",
       "6    행_7                           부재명 기명 및 자재종류 도장 마킹   \n",
       "7    행_8                               절단 진행중 이상 여부 체크   \n",
       "8    행_9                                    절단중 스크랩 처리   \n",
       "9   행_10                             A/T 준비 (Air Test)   \n",
       "10  행_11                                    선주선급 입회 검사   \n",
       "11  행_12            선주선급 지적 POINT 수정 (용접기 및 에어그라인더 사용)   \n",
       "12  행_13                              수정 용접 및 백 가우징 작업   \n",
       "13  행_14          외판 조인트 U.T 검사 수행 (에어 그라인더, 베이비 그라인더)   \n",
       "14  행_15                  1차 사상 작업 (에어 그라인더, 베이비 그라인더)   \n",
       "15  행_16  2차 사상 작업 , RC 작업 페퍼 그라인딩 (에어 그라인더, 베이비 그라인더)   \n",
       "16  행_17                               MINI 캐리지 반자동 용접   \n",
       "17  행_18                          수동 용접 및 라운드 용접(FCAW)   \n",
       "18  행_19                                   수동 용접(FCAW)   \n",
       "19  행_20                              수정 용접 및 백 가우징 작업   \n",
       "20  행_21                                  외판 조인트 용접 작업   \n",
       "21  행_22                                PIPE 조인트 볼팅 작업   \n",
       "22  행_23                                 작업대 및 사다리 철거    \n",
       "23  행_24                                      사전 도면 확인   \n",
       "24  행_25                                외판 조인트 재개선 시공    \n",
       "25  행_26                                     조인트 취부 작업   \n",
       "26  행_27                           치공구, 3M 피스 및 야피스 준비   \n",
       "27  행_28                            Hopper 블록 탑재 셋팅 취부   \n",
       "28  행_29                                     PE 조인트 마킹   \n",
       "29  행_30                                         보강 용접   \n",
       "\n",
       "                                             형태소            위험_id  위험vector  \n",
       "0                         슬링벨트, 운반, 크레인, 상태, 슬래그       [위_1, 위_2]      12.0  \n",
       "1            차, 용접, 수정, 작업, 아이템, 체크, 수정, 분필, 용접기            [위_2]       7.5  \n",
       "2                           지게차, 운전수, 작업, 내용, 협의            [위_3]       3.0  \n",
       "3                                       공기구, 용접기            [위_2]       3.5  \n",
       "4                                 오프, 세트, 체크, 실시              NaN       0.0  \n",
       "5                                        버튼, 누르기              NaN       0.0  \n",
       "6                         재명, 기명, 자재, 종류, 도장, 마킹              NaN       3.0  \n",
       "7                             절단, 진행, 이상, 여부, 체크              NaN       3.0  \n",
       "8                                    절단, 스크랩, 처리              NaN       3.0  \n",
       "9                                             준비              NaN       0.0  \n",
       "10                                선주, 선급, 입회, 검사              NaN       0.0  \n",
       "11             선주, 선급, 지적, 수정, 용접기, 에어, 그라인더, 사용       [위_2, 위_5]       7.5  \n",
       "12                             수정, 용접, 백, 우징, 작업            [위_2]       4.0  \n",
       "13          외판, 조인트, 검사, 수행, 에어, 그라인더, 베이비, 그라인더            [위_5]       8.0  \n",
       "14                차, 사상, 작업, 에어, 그라인더, 베이비, 그라인더            [위_5]       8.0  \n",
       "15  차, 사상, 작업, 작업, 페퍼, 그라인딩, 에어, 그라인더, 베이비, 그라인더            [위_5]       8.0  \n",
       "16                                  캐리지, 반자동, 용접       [위_6, 위_2]       6.0  \n",
       "17                               수동, 용접, 라운드, 용접            [위_2]       8.0  \n",
       "18                                        수동, 용접            [위_2]       4.0  \n",
       "19                             수정, 용접, 백, 우징, 작업            [위_2]       4.0  \n",
       "20                               외판, 조인트, 용접, 작업            [위_2]       4.0  \n",
       "21                                   조인트, 볼팅, 작업              NaN       0.0  \n",
       "22                                  작업대, 사다리, 철거  [위_7, 위_4, 위_6]       3.0  \n",
       "23                                    사전, 도면, 확인              NaN       0.0  \n",
       "24                               외판, 조인트, 개선, 시공              NaN       0.0  \n",
       "25                                   조인트, 취부, 작업  [위_5, 위_6, 위_7]       4.0  \n",
       "26                                공구, 피스, 피스, 준비            [위_7]       4.0  \n",
       "27                                블록, 탑재, 셋팅, 취부  [위_5, 위_6, 위_7]       4.0  \n",
       "28                                       조인트, 마킹              NaN       0.0  \n",
       "29                                        보강, 용접            [위_2]       4.0  "
      ]
     },
     "execution_count": 9,
     "metadata": {},
     "output_type": "execute_result"
    }
   ],
   "source": [
    "works2"
   ]
  },
  {
   "cell_type": "code",
   "execution_count": 10,
   "metadata": {},
   "outputs": [],
   "source": [
    "works2.to_excel('./result/result_직접1.xlsx')"
   ]
  },
  {
   "cell_type": "markdown",
   "metadata": {},
   "source": [
    "### 표준 위험요인 키워드와 위험 벡터 맵핑"
   ]
  },
  {
   "cell_type": "code",
   "execution_count": 11,
   "metadata": {},
   "outputs": [],
   "source": [
    "# works"
   ]
  },
  {
   "cell_type": "code",
   "execution_count": 12,
   "metadata": {},
   "outputs": [],
   "source": [
    "# works1 =  copy.deepcopy(works)"
   ]
  },
  {
   "cell_type": "code",
   "execution_count": 13,
   "metadata": {},
   "outputs": [],
   "source": [
    "# t1 = vectors.loc[vectors['키워드'] == '크레인', \"위험지수\"]\n",
    "# t1"
   ]
  },
  {
   "cell_type": "code",
   "execution_count": 14,
   "metadata": {},
   "outputs": [],
   "source": [
    "# risk1['키워드']"
   ]
  },
  {
   "cell_type": "code",
   "execution_count": 15,
   "metadata": {},
   "outputs": [],
   "source": [
    "# risk2 =[]\n",
    "# for i in risk1['키워드']:\n",
    "#     i = i.split(\",\")\n",
    "#     risk2.append(i)\n",
    "# risk2"
   ]
  },
  {
   "cell_type": "code",
   "execution_count": 16,
   "metadata": {},
   "outputs": [],
   "source": [
    "# for n, i in enumerate(risk2):\n",
    "# #     print(\"1\", i)\n",
    "#     # 리스트로 변환된 위험 키워드 리스트를 하나씩 가져오고\n",
    "#     point = 0\n",
    "#     for j in i:\n",
    "#         j = j.strip()\n",
    "# #         print(\"2\", j)\n",
    "#         if j in list(vectors['키워드']):\n",
    "#             point += float(vectors.loc[vectors['키워드'] == j, \"위험지수\"])\n",
    "# #             print(\"3\", point)\n",
    "#         else:\n",
    "#             point += 0\n",
    "\n",
    "#     risk1.at[n, \"R_vector\"] = point    "
   ]
  },
  {
   "cell_type": "code",
   "execution_count": 17,
   "metadata": {},
   "outputs": [],
   "source": [
    "# risk1"
   ]
  },
  {
   "cell_type": "code",
   "execution_count": 18,
   "metadata": {},
   "outputs": [],
   "source": [
    "# \"슬링벨트\" in list(vectors['키워드'])"
   ]
  },
  {
   "cell_type": "markdown",
   "metadata": {},
   "source": [
    "### 간접 방식 전체 통합 (작업행동+표준위험id+위험벡터)"
   ]
  },
  {
   "cell_type": "code",
   "execution_count": 19,
   "metadata": {},
   "outputs": [],
   "source": [
    "# works1"
   ]
  },
  {
   "cell_type": "code",
   "execution_count": 20,
   "metadata": {},
   "outputs": [],
   "source": [
    "# new_list = [x for x in works1['위험_id']]\n",
    "# new_list"
   ]
  },
  {
   "cell_type": "code",
   "execution_count": 21,
   "metadata": {},
   "outputs": [],
   "source": [
    "# new_list.index(new_list[0])"
   ]
  },
  {
   "cell_type": "code",
   "execution_count": 22,
   "metadata": {},
   "outputs": [],
   "source": [
    "# str(new_list[3]) == \"nan\""
   ]
  },
  {
   "cell_type": "code",
   "execution_count": 23,
   "metadata": {},
   "outputs": [],
   "source": [
    "# for i in new_list:\n",
    "#     print(i)\n",
    "#     if str(i) == \"nan\":\n",
    "#         pass\n",
    "#     else:  \n",
    "#         for j in i:\n",
    "#             print(j)"
   ]
  },
  {
   "cell_type": "code",
   "execution_count": 24,
   "metadata": {
    "scrolled": false
   },
   "outputs": [],
   "source": [
    "# for n, i in enumerate(new_list):\n",
    "# #     print(i)\n",
    "#     if str(i) == \"nan\":\n",
    "#         pass\n",
    "#     else: \n",
    "#         point1 = 0\n",
    "#         for j in i:\n",
    "#             if j in list(risk1['id']):\n",
    "#                 point1 += float(risk1.loc[risk1['id'] == j, 'R_vector'])\n",
    "#             else:\n",
    "#                 point1 += 0\n",
    "#         works1.at[n, \"R_vector\"] = point1 "
   ]
  },
  {
   "cell_type": "code",
   "execution_count": 25,
   "metadata": {},
   "outputs": [],
   "source": [
    "# works1"
   ]
  },
  {
   "cell_type": "code",
   "execution_count": 26,
   "metadata": {},
   "outputs": [],
   "source": [
    "# works1.to_excel('./result/result_간접.xlsx')"
   ]
  },
  {
   "cell_type": "code",
   "execution_count": null,
   "metadata": {},
   "outputs": [],
   "source": []
  }
 ],
 "metadata": {
  "kernelspec": {
   "display_name": "Python 3",
   "language": "python",
   "name": "python3"
  },
  "language_info": {
   "codemirror_mode": {
    "name": "ipython",
    "version": 3
   },
   "file_extension": ".py",
   "mimetype": "text/x-python",
   "name": "python",
   "nbconvert_exporter": "python",
   "pygments_lexer": "ipython3",
   "version": "3.7.7"
  }
 },
 "nbformat": 4,
 "nbformat_minor": 4
}
